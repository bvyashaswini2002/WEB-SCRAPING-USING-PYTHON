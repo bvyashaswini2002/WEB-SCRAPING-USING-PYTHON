{
 "cells": [
  {
   "cell_type": "code",
   "execution_count": 6,
   "id": "c870ec8a-c109-404d-a200-280b32e7ed1c",
   "metadata": {},
   "outputs": [
    {
     "name": "stdout",
     "output_type": "stream",
     "text": [
      "{'python': 32, 'javascript': 16, 'typescript': 30, 'ruby': 9, 'java': 10, 'rust': 13, 'c#': 2}\n"
     ]
    },
    {
     "data": {
      "image/png": "[encoded data removed]",
      "text/plain": [
       "<Figure size 640x480 with 1 Axes>"
      ]
     },
     "metadata": {},
     "output_type": "display_data"
    }
   ],
   "source": [
    "import requests\n",
    "from bs4 import BeautifulSoup\n",
    "import matplotlib.pyplot as plt\n",
    "import pandas as pd\n",
    "\n",
    "def main():\n",
    "    url = \"https://news.ycombinator.com/item?id=29782099\"\n",
    "    response = requests.get(url)\n",
    "    df=pd.read_html(url,header=0)\n",
    "    df\n",
    "    soup = BeautifulSoup(response.content, \"html.parser\")\n",
    "    elements = soup.find_all(class_=\"ind\", indent=0)\n",
    "    comments = [e.find_next(class_=\"comment\") for e in elements]\n",
    "\n",
    "    keywords = {\n",
    "        \"python\": 0,\n",
    "        \"javascript\": 0,\n",
    "        \"typescript\": 0,\n",
    "        \"ruby\": 0,\n",
    "        \"java\": 0,\n",
    "        \"rust\": 0,\n",
    "        \"c#\": 0,\n",
    "    }\n",
    "\n",
    "    for comment in comments:\n",
    "        comment_text = comment.get_text().lower()\n",
    "        words = comment_text.split(\" \")\n",
    "        words = {w.strip(\".,/:;!@\") for w in words}\n",
    "\n",
    "        for k in keywords:\n",
    "            if k in words:\n",
    "                keywords[k] += 1\n",
    "\n",
    "    print(keywords)\n",
    "\n",
    "    plt.bar(keywords.keys(), keywords.values())\n",
    "    plt.xlabel(\"Language\")\n",
    "    plt.ylabel(\"# of Mentions\")\n",
    "    plt.show()\n",
    "\n",
    "\n",
    "if __name__ == \"__main__\":\n",
    "    main()"
   ]
  },
  {
   "cell_type": "code",
   "execution_count": null,
   "id": "d5c2abcb-9e88-4cc8-a0ee-4f5a8c3b4eca",
   "metadata": {},
   "outputs": [],
   "source": []
  },
  {
   "cell_type": "code",
   "execution_count": null,
   "id": "445c41d8-7243-415d-9ae7-aa2e80f7a78c",
   "metadata": {},
   "outputs": [],
   "source": []
  }
 ],
 "metadata": {
  "kernelspec": {
   "display_name": "Python 3 (ipykernel)",
   "language": "python",
   "name": "python3"
  },
  "language_info": {
   "codemirror_mode": {
    "name": "ipython",
    "version": 3
   },
   "file_extension": ".py",
   "mimetype": "text/x-python",
   "name": "python",
   "nbconvert_exporter": "python",
   "pygments_lexer": "ipython3",
   "version": "3.11.7"
  }
 },
 "nbformat": 4,
 "nbformat_minor": 5
}
